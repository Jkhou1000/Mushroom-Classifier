{
  "nbformat": 4,
  "nbformat_minor": 0,
  "metadata": {
    "colab": {
      "name": "Mushroom Project",
      "provenance": [],
      "authorship_tag": "ABX9TyNv0dw7fbccbXWVzk3qquml",
      "include_colab_link": true
    },
    "kernelspec": {
      "name": "python3",
      "display_name": "Python 3"
    },
    "language_info": {
      "name": "python"
    }
  },
  "cells": [
    {
      "cell_type": "markdown",
      "metadata": {
        "id": "view-in-github",
        "colab_type": "text"
      },
      "source": [
        "<a href=\"https://colab.research.google.com/github/Jkhou1000/Project-2/blob/Viz-testing/Mushroom_Project.ipynb\" target=\"_parent\"><img src=\"https://colab.research.google.com/assets/colab-badge.svg\" alt=\"Open In Colab\"/></a>"
      ]
    },
    {
      "cell_type": "markdown",
      "source": [
        "Josh Khoury\n",
        "\n",
        "Date started:  7/11/2022\n",
        "\n",
        "Mushroom Edibility Project"
      ],
      "metadata": {
        "id": "KF1NnfTjIIhj"
      }
    },
    {
      "cell_type": "code",
      "source": [
        "from google.colab import drive\n",
        "drive.mount('/content/drive')"
      ],
      "metadata": {
        "colab": {
          "base_uri": "https://localhost:8080/"
        },
        "id": "fB5yYGg_IuHn",
        "outputId": "22618b79-fe33-4ecf-fb7b-f530dde8b35b"
      },
      "execution_count": null,
      "outputs": [
        {
          "output_type": "stream",
          "name": "stdout",
          "text": [
            "Mounted at /content/drive\n"
          ]
        }
      ]
    },
    {
      "cell_type": "code",
      "execution_count": null,
      "metadata": {
        "id": "T7DaEchgIC-2"
      },
      "outputs": [],
      "source": [
        "#Importing basic libraries for first part of project\n",
        "import pandas as pd\n",
        "import numpy as np\n",
        "import matplotlib.pyplot as plt\n",
        "import seaborn as sns"
      ]
    },
    {
      "cell_type": "code",
      "source": [
        "df = pd.read_csv('/content/drive/MyDrive/Coding Dojo/Stack 2/Project 2/CSVS/mushrooms.csv')\n",
        "df.head()"
      ],
      "metadata": {
        "colab": {
          "base_uri": "https://localhost:8080/",
          "height": 332
        },
        "id": "7WY9AHSPJciI",
        "outputId": "dfe33c7e-3746-4eaa-ee6c-13726b63c4cd"
      },
      "execution_count": null,
      "outputs": [
        {
          "output_type": "execute_result",
          "data": {
            "text/plain": [
              "  class cap-shape cap-surface cap-color bruises odor gill-attachment  \\\n",
              "0     p         x           s         n       t    p               f   \n",
              "1     e         x           s         y       t    a               f   \n",
              "2     e         b           s         w       t    l               f   \n",
              "3     p         x           y         w       t    p               f   \n",
              "4     e         x           s         g       f    n               f   \n",
              "\n",
              "  gill-spacing gill-size gill-color  ... stalk-surface-below-ring  \\\n",
              "0            c         n          k  ...                        s   \n",
              "1            c         b          k  ...                        s   \n",
              "2            c         b          n  ...                        s   \n",
              "3            c         n          n  ...                        s   \n",
              "4            w         b          k  ...                        s   \n",
              "\n",
              "  stalk-color-above-ring stalk-color-below-ring veil-type veil-color  \\\n",
              "0                      w                      w         p          w   \n",
              "1                      w                      w         p          w   \n",
              "2                      w                      w         p          w   \n",
              "3                      w                      w         p          w   \n",
              "4                      w                      w         p          w   \n",
              "\n",
              "  ring-number ring-type spore-print-color population habitat  \n",
              "0           o         p                 k          s       u  \n",
              "1           o         p                 n          n       g  \n",
              "2           o         p                 n          n       m  \n",
              "3           o         p                 k          s       u  \n",
              "4           o         e                 n          a       g  \n",
              "\n",
              "[5 rows x 23 columns]"
            ],
            "text/html": [
              "\n",
              "  <div id=\"df-5744e221-f0ef-4bfe-9482-25db2c14daf2\">\n",
              "    <div class=\"colab-df-container\">\n",
              "      <div>\n",
              "<style scoped>\n",
              "    .dataframe tbody tr th:only-of-type {\n",
              "        vertical-align: middle;\n",
              "    }\n",
              "\n",
              "    .dataframe tbody tr th {\n",
              "        vertical-align: top;\n",
              "    }\n",
              "\n",
              "    .dataframe thead th {\n",
              "        text-align: right;\n",
              "    }\n",
              "</style>\n",
              "<table border=\"1\" class=\"dataframe\">\n",
              "  <thead>\n",
              "    <tr style=\"text-align: right;\">\n",
              "      <th></th>\n",
              "      <th>class</th>\n",
              "      <th>cap-shape</th>\n",
              "      <th>cap-surface</th>\n",
              "      <th>cap-color</th>\n",
              "      <th>bruises</th>\n",
              "      <th>odor</th>\n",
              "      <th>gill-attachment</th>\n",
              "      <th>gill-spacing</th>\n",
              "      <th>gill-size</th>\n",
              "      <th>gill-color</th>\n",
              "      <th>...</th>\n",
              "      <th>stalk-surface-below-ring</th>\n",
              "      <th>stalk-color-above-ring</th>\n",
              "      <th>stalk-color-below-ring</th>\n",
              "      <th>veil-type</th>\n",
              "      <th>veil-color</th>\n",
              "      <th>ring-number</th>\n",
              "      <th>ring-type</th>\n",
              "      <th>spore-print-color</th>\n",
              "      <th>population</th>\n",
              "      <th>habitat</th>\n",
              "    </tr>\n",
              "  </thead>\n",
              "  <tbody>\n",
              "    <tr>\n",
              "      <th>0</th>\n",
              "      <td>p</td>\n",
              "      <td>x</td>\n",
              "      <td>s</td>\n",
              "      <td>n</td>\n",
              "      <td>t</td>\n",
              "      <td>p</td>\n",
              "      <td>f</td>\n",
              "      <td>c</td>\n",
              "      <td>n</td>\n",
              "      <td>k</td>\n",
              "      <td>...</td>\n",
              "      <td>s</td>\n",
              "      <td>w</td>\n",
              "      <td>w</td>\n",
              "      <td>p</td>\n",
              "      <td>w</td>\n",
              "      <td>o</td>\n",
              "      <td>p</td>\n",
              "      <td>k</td>\n",
              "      <td>s</td>\n",
              "      <td>u</td>\n",
              "    </tr>\n",
              "    <tr>\n",
              "      <th>1</th>\n",
              "      <td>e</td>\n",
              "      <td>x</td>\n",
              "      <td>s</td>\n",
              "      <td>y</td>\n",
              "      <td>t</td>\n",
              "      <td>a</td>\n",
              "      <td>f</td>\n",
              "      <td>c</td>\n",
              "      <td>b</td>\n",
              "      <td>k</td>\n",
              "      <td>...</td>\n",
              "      <td>s</td>\n",
              "      <td>w</td>\n",
              "      <td>w</td>\n",
              "      <td>p</td>\n",
              "      <td>w</td>\n",
              "      <td>o</td>\n",
              "      <td>p</td>\n",
              "      <td>n</td>\n",
              "      <td>n</td>\n",
              "      <td>g</td>\n",
              "    </tr>\n",
              "    <tr>\n",
              "      <th>2</th>\n",
              "      <td>e</td>\n",
              "      <td>b</td>\n",
              "      <td>s</td>\n",
              "      <td>w</td>\n",
              "      <td>t</td>\n",
              "      <td>l</td>\n",
              "      <td>f</td>\n",
              "      <td>c</td>\n",
              "      <td>b</td>\n",
              "      <td>n</td>\n",
              "      <td>...</td>\n",
              "      <td>s</td>\n",
              "      <td>w</td>\n",
              "      <td>w</td>\n",
              "      <td>p</td>\n",
              "      <td>w</td>\n",
              "      <td>o</td>\n",
              "      <td>p</td>\n",
              "      <td>n</td>\n",
              "      <td>n</td>\n",
              "      <td>m</td>\n",
              "    </tr>\n",
              "    <tr>\n",
              "      <th>3</th>\n",
              "      <td>p</td>\n",
              "      <td>x</td>\n",
              "      <td>y</td>\n",
              "      <td>w</td>\n",
              "      <td>t</td>\n",
              "      <td>p</td>\n",
              "      <td>f</td>\n",
              "      <td>c</td>\n",
              "      <td>n</td>\n",
              "      <td>n</td>\n",
              "      <td>...</td>\n",
              "      <td>s</td>\n",
              "      <td>w</td>\n",
              "      <td>w</td>\n",
              "      <td>p</td>\n",
              "      <td>w</td>\n",
              "      <td>o</td>\n",
              "      <td>p</td>\n",
              "      <td>k</td>\n",
              "      <td>s</td>\n",
              "      <td>u</td>\n",
              "    </tr>\n",
              "    <tr>\n",
              "      <th>4</th>\n",
              "      <td>e</td>\n",
              "      <td>x</td>\n",
              "      <td>s</td>\n",
              "      <td>g</td>\n",
              "      <td>f</td>\n",
              "      <td>n</td>\n",
              "      <td>f</td>\n",
              "      <td>w</td>\n",
              "      <td>b</td>\n",
              "      <td>k</td>\n",
              "      <td>...</td>\n",
              "      <td>s</td>\n",
              "      <td>w</td>\n",
              "      <td>w</td>\n",
              "      <td>p</td>\n",
              "      <td>w</td>\n",
              "      <td>o</td>\n",
              "      <td>e</td>\n",
              "      <td>n</td>\n",
              "      <td>a</td>\n",
              "      <td>g</td>\n",
              "    </tr>\n",
              "  </tbody>\n",
              "</table>\n",
              "<p>5 rows × 23 columns</p>\n",
              "</div>\n",
              "      <button class=\"colab-df-convert\" onclick=\"convertToInteractive('df-5744e221-f0ef-4bfe-9482-25db2c14daf2')\"\n",
              "              title=\"Convert this dataframe to an interactive table.\"\n",
              "              style=\"display:none;\">\n",
              "        \n",
              "  <svg xmlns=\"http://www.w3.org/2000/svg\" height=\"24px\"viewBox=\"0 0 24 24\"\n",
              "       width=\"24px\">\n",
              "    <path d=\"M0 0h24v24H0V0z\" fill=\"none\"/>\n",
              "    <path d=\"M18.56 5.44l.94 2.06.94-2.06 2.06-.94-2.06-.94-.94-2.06-.94 2.06-2.06.94zm-11 1L8.5 8.5l.94-2.06 2.06-.94-2.06-.94L8.5 2.5l-.94 2.06-2.06.94zm10 10l.94 2.06.94-2.06 2.06-.94-2.06-.94-.94-2.06-.94 2.06-2.06.94z\"/><path d=\"M17.41 7.96l-1.37-1.37c-.4-.4-.92-.59-1.43-.59-.52 0-1.04.2-1.43.59L10.3 9.45l-7.72 7.72c-.78.78-.78 2.05 0 2.83L4 21.41c.39.39.9.59 1.41.59.51 0 1.02-.2 1.41-.59l7.78-7.78 2.81-2.81c.8-.78.8-2.07 0-2.86zM5.41 20L4 18.59l7.72-7.72 1.47 1.35L5.41 20z\"/>\n",
              "  </svg>\n",
              "      </button>\n",
              "      \n",
              "  <style>\n",
              "    .colab-df-container {\n",
              "      display:flex;\n",
              "      flex-wrap:wrap;\n",
              "      gap: 12px;\n",
              "    }\n",
              "\n",
              "    .colab-df-convert {\n",
              "      background-color: #E8F0FE;\n",
              "      border: none;\n",
              "      border-radius: 50%;\n",
              "      cursor: pointer;\n",
              "      display: none;\n",
              "      fill: #1967D2;\n",
              "      height: 32px;\n",
              "      padding: 0 0 0 0;\n",
              "      width: 32px;\n",
              "    }\n",
              "\n",
              "    .colab-df-convert:hover {\n",
              "      background-color: #E2EBFA;\n",
              "      box-shadow: 0px 1px 2px rgba(60, 64, 67, 0.3), 0px 1px 3px 1px rgba(60, 64, 67, 0.15);\n",
              "      fill: #174EA6;\n",
              "    }\n",
              "\n",
              "    [theme=dark] .colab-df-convert {\n",
              "      background-color: #3B4455;\n",
              "      fill: #D2E3FC;\n",
              "    }\n",
              "\n",
              "    [theme=dark] .colab-df-convert:hover {\n",
              "      background-color: #434B5C;\n",
              "      box-shadow: 0px 1px 3px 1px rgba(0, 0, 0, 0.15);\n",
              "      filter: drop-shadow(0px 1px 2px rgba(0, 0, 0, 0.3));\n",
              "      fill: #FFFFFF;\n",
              "    }\n",
              "  </style>\n",
              "\n",
              "      <script>\n",
              "        const buttonEl =\n",
              "          document.querySelector('#df-5744e221-f0ef-4bfe-9482-25db2c14daf2 button.colab-df-convert');\n",
              "        buttonEl.style.display =\n",
              "          google.colab.kernel.accessAllowed ? 'block' : 'none';\n",
              "\n",
              "        async function convertToInteractive(key) {\n",
              "          const element = document.querySelector('#df-5744e221-f0ef-4bfe-9482-25db2c14daf2');\n",
              "          const dataTable =\n",
              "            await google.colab.kernel.invokeFunction('convertToInteractive',\n",
              "                                                     [key], {});\n",
              "          if (!dataTable) return;\n",
              "\n",
              "          const docLinkHtml = 'Like what you see? Visit the ' +\n",
              "            '<a target=\"_blank\" href=https://colab.research.google.com/notebooks/data_table.ipynb>data table notebook</a>'\n",
              "            + ' to learn more about interactive tables.';\n",
              "          element.innerHTML = '';\n",
              "          dataTable['output_type'] = 'display_data';\n",
              "          await google.colab.output.renderOutput(dataTable, element);\n",
              "          const docLink = document.createElement('div');\n",
              "          docLink.innerHTML = docLinkHtml;\n",
              "          element.appendChild(docLink);\n",
              "        }\n",
              "      </script>\n",
              "    </div>\n",
              "  </div>\n",
              "  "
            ]
          },
          "metadata": {},
          "execution_count": 3
        }
      ]
    },
    {
      "cell_type": "code",
      "source": [
        "#everything is as it should be here, object class.\n",
        "#this will make modeling data visuals difficult as I have no numerical values to compare it with\n",
        "df.info()"
      ],
      "metadata": {
        "colab": {
          "base_uri": "https://localhost:8080/"
        },
        "id": "ec6oOx5cKD9f",
        "outputId": "4c83b5b5-1c8c-4939-aef1-db806dfc0083"
      },
      "execution_count": null,
      "outputs": [
        {
          "output_type": "stream",
          "name": "stdout",
          "text": [
            "<class 'pandas.core.frame.DataFrame'>\n",
            "RangeIndex: 8124 entries, 0 to 8123\n",
            "Data columns (total 23 columns):\n",
            " #   Column                    Non-Null Count  Dtype \n",
            "---  ------                    --------------  ----- \n",
            " 0   class                     8124 non-null   object\n",
            " 1   cap-shape                 8124 non-null   object\n",
            " 2   cap-surface               8124 non-null   object\n",
            " 3   cap-color                 8124 non-null   object\n",
            " 4   bruises                   8124 non-null   object\n",
            " 5   odor                      8124 non-null   object\n",
            " 6   gill-attachment           8124 non-null   object\n",
            " 7   gill-spacing              8124 non-null   object\n",
            " 8   gill-size                 8124 non-null   object\n",
            " 9   gill-color                8124 non-null   object\n",
            " 10  stalk-shape               8124 non-null   object\n",
            " 11  stalk-root                8124 non-null   object\n",
            " 12  stalk-surface-above-ring  8124 non-null   object\n",
            " 13  stalk-surface-below-ring  8124 non-null   object\n",
            " 14  stalk-color-above-ring    8124 non-null   object\n",
            " 15  stalk-color-below-ring    8124 non-null   object\n",
            " 16  veil-type                 8124 non-null   object\n",
            " 17  veil-color                8124 non-null   object\n",
            " 18  ring-number               8124 non-null   object\n",
            " 19  ring-type                 8124 non-null   object\n",
            " 20  spore-print-color         8124 non-null   object\n",
            " 21  population                8124 non-null   object\n",
            " 22  habitat                   8124 non-null   object\n",
            "dtypes: object(23)\n",
            "memory usage: 1.4+ MB\n"
          ]
        }
      ]
    },
    {
      "cell_type": "code",
      "source": [
        "print(f'NaN values:', df.isna().sum().sum())\n",
        "print(f'Duplicated Values:', df.duplicated().any())\n",
        "#No NAN or duplicates."
      ],
      "metadata": {
        "colab": {
          "base_uri": "https://localhost:8080/"
        },
        "id": "bsFWWfl_KHwC",
        "outputId": "9a3819dc-ac5e-4f9d-93d1-e81429d1c500"
      },
      "execution_count": null,
      "outputs": [
        {
          "output_type": "stream",
          "name": "stdout",
          "text": [
            "NaN values: 0\n",
            "Duplicated Values: False\n"
          ]
        }
      ]
    },
    {
      "cell_type": "code",
      "source": [
        "Hyops = df.dtypes[df.dtypes=='object'].index\n",
        "for col in Hyops:\n",
        "  print(f'Column:{col}')\n",
        "  print(df[col].value_counts(dropna=True))\n",
        "  print('\\n\\n')\n",
        "#There aren't any NaN Values but some of these datapoints have ? which is  techincally missing\n",
        "#However I won't need to impute or fill it at least."
      ],
      "metadata": {
        "colab": {
          "base_uri": "https://localhost:8080/"
        },
        "id": "O9WeuaduNe38",
        "outputId": "8f274d63-8cc4-475f-f424-2dcbb4d45b3c"
      },
      "execution_count": null,
      "outputs": [
        {
          "output_type": "stream",
          "name": "stdout",
          "text": [
            "Column:class\n",
            "e    4208\n",
            "p    3916\n",
            "Name: class, dtype: int64\n",
            "\n",
            "\n",
            "\n",
            "Column:cap-shape\n",
            "x    3656\n",
            "f    3152\n",
            "k     828\n",
            "b     452\n",
            "s      32\n",
            "c       4\n",
            "Name: cap-shape, dtype: int64\n",
            "\n",
            "\n",
            "\n",
            "Column:cap-surface\n",
            "y    3244\n",
            "s    2556\n",
            "f    2320\n",
            "g       4\n",
            "Name: cap-surface, dtype: int64\n",
            "\n",
            "\n",
            "\n",
            "Column:cap-color\n",
            "n    2284\n",
            "g    1840\n",
            "e    1500\n",
            "y    1072\n",
            "w    1040\n",
            "b     168\n",
            "p     144\n",
            "c      44\n",
            "u      16\n",
            "r      16\n",
            "Name: cap-color, dtype: int64\n",
            "\n",
            "\n",
            "\n",
            "Column:bruises\n",
            "f    4748\n",
            "t    3376\n",
            "Name: bruises, dtype: int64\n",
            "\n",
            "\n",
            "\n",
            "Column:odor\n",
            "n    3528\n",
            "f    2160\n",
            "y     576\n",
            "s     576\n",
            "a     400\n",
            "l     400\n",
            "p     256\n",
            "c     192\n",
            "m      36\n",
            "Name: odor, dtype: int64\n",
            "\n",
            "\n",
            "\n",
            "Column:gill-attachment\n",
            "f    7914\n",
            "a     210\n",
            "Name: gill-attachment, dtype: int64\n",
            "\n",
            "\n",
            "\n",
            "Column:gill-spacing\n",
            "c    6812\n",
            "w    1312\n",
            "Name: gill-spacing, dtype: int64\n",
            "\n",
            "\n",
            "\n",
            "Column:gill-size\n",
            "b    5612\n",
            "n    2512\n",
            "Name: gill-size, dtype: int64\n",
            "\n",
            "\n",
            "\n",
            "Column:gill-color\n",
            "b    1728\n",
            "p    1492\n",
            "w    1202\n",
            "n    1048\n",
            "g     752\n",
            "h     732\n",
            "u     492\n",
            "k     408\n",
            "e      96\n",
            "y      86\n",
            "o      64\n",
            "r      24\n",
            "Name: gill-color, dtype: int64\n",
            "\n",
            "\n",
            "\n",
            "Column:stalk-shape\n",
            "t    4608\n",
            "e    3516\n",
            "Name: stalk-shape, dtype: int64\n",
            "\n",
            "\n",
            "\n",
            "Column:stalk-root\n",
            "b    3776\n",
            "?    2480\n",
            "e    1120\n",
            "c     556\n",
            "r     192\n",
            "Name: stalk-root, dtype: int64\n",
            "\n",
            "\n",
            "\n",
            "Column:stalk-surface-above-ring\n",
            "s    5176\n",
            "k    2372\n",
            "f     552\n",
            "y      24\n",
            "Name: stalk-surface-above-ring, dtype: int64\n",
            "\n",
            "\n",
            "\n",
            "Column:stalk-surface-below-ring\n",
            "s    4936\n",
            "k    2304\n",
            "f     600\n",
            "y     284\n",
            "Name: stalk-surface-below-ring, dtype: int64\n",
            "\n",
            "\n",
            "\n",
            "Column:stalk-color-above-ring\n",
            "w    4464\n",
            "p    1872\n",
            "g     576\n",
            "n     448\n",
            "b     432\n",
            "o     192\n",
            "e      96\n",
            "c      36\n",
            "y       8\n",
            "Name: stalk-color-above-ring, dtype: int64\n",
            "\n",
            "\n",
            "\n",
            "Column:stalk-color-below-ring\n",
            "w    4384\n",
            "p    1872\n",
            "g     576\n",
            "n     512\n",
            "b     432\n",
            "o     192\n",
            "e      96\n",
            "c      36\n",
            "y      24\n",
            "Name: stalk-color-below-ring, dtype: int64\n",
            "\n",
            "\n",
            "\n",
            "Column:veil-type\n",
            "p    8124\n",
            "Name: veil-type, dtype: int64\n",
            "\n",
            "\n",
            "\n",
            "Column:veil-color\n",
            "w    7924\n",
            "n      96\n",
            "o      96\n",
            "y       8\n",
            "Name: veil-color, dtype: int64\n",
            "\n",
            "\n",
            "\n",
            "Column:ring-number\n",
            "o    7488\n",
            "t     600\n",
            "n      36\n",
            "Name: ring-number, dtype: int64\n",
            "\n",
            "\n",
            "\n",
            "Column:ring-type\n",
            "p    3968\n",
            "e    2776\n",
            "l    1296\n",
            "f      48\n",
            "n      36\n",
            "Name: ring-type, dtype: int64\n",
            "\n",
            "\n",
            "\n",
            "Column:spore-print-color\n",
            "w    2388\n",
            "n    1968\n",
            "k    1872\n",
            "h    1632\n",
            "r      72\n",
            "u      48\n",
            "o      48\n",
            "y      48\n",
            "b      48\n",
            "Name: spore-print-color, dtype: int64\n",
            "\n",
            "\n",
            "\n",
            "Column:population\n",
            "v    4040\n",
            "y    1712\n",
            "s    1248\n",
            "n     400\n",
            "a     384\n",
            "c     340\n",
            "Name: population, dtype: int64\n",
            "\n",
            "\n",
            "\n",
            "Column:habitat\n",
            "d    3148\n",
            "g    2148\n",
            "p    1144\n",
            "l     832\n",
            "u     368\n",
            "m     292\n",
            "w     192\n",
            "Name: habitat, dtype: int64\n",
            "\n",
            "\n",
            "\n"
          ]
        }
      ]
    },
    {
      "cell_type": "code",
      "source": [
        "sns.histplot(data=df, x='gill-color', edgecolor='black',bins='auto', hue='class')\n",
        "#I have this basic graph to use as a reference for labels, since I have to assign values in the graphs order"
      ],
      "metadata": {
        "colab": {
          "base_uri": "https://localhost:8080/",
          "height": 296
        },
        "id": "ZRG_ZpNRwPnu",
        "outputId": "74cd4c1c-392c-4b3b-ce92-b15ab32a2716"
      },
      "execution_count": null,
      "outputs": [
        {
          "output_type": "execute_result",
          "data": {
            "text/plain": [
              "<matplotlib.axes._subplots.AxesSubplot at 0x7f1d849cb350>"
            ]
          },
          "metadata": {},
          "execution_count": 7
        },
        {
          "output_type": "display_data",
          "data": {
            "text/plain": [
              "<Figure size 432x288 with 1 Axes>"
            ],
            "image/png": "[encoded data removed]"
          },
          "metadata": {
            "needs_background": "light"
          }
        }
      ]
    },
    {
      "cell_type": "code",
      "source": [
        "labels = ['Black', 'Brown', 'Gray', 'Pink', 'White', 'Chocolate', 'Purple', 'Red', 'Buff', 'Green', 'Yellow', 'Orange']\n",
        "fig, ax = plt.subplots(figsize=(10,6))\n",
        "\n",
        "#Setting Parameters\n",
        "plt.tight_layout()\n",
        "sns.histplot(data=df, x='gill-color', edgecolor='black',bins='auto', hue='class')\n",
        "plt.ylabel('Total Mushrooms')\n",
        "plt.xlabel('Gill Colors')\n",
        "ax.set_xticklabels(labels=labels)\n",
        "ax.set(title='Mushroom Gill Colors')\n",
        "ax.tick_params(labelrotation = 45)\n",
        "ax.legend(labels=['Poisonous', 'Edible'])\n",
        "#Buff is the most common color for mushroom gils, and all of them are edible. this is good info\n",
        "#Since the target is the Class (Edible or Poisonous) it best to use them as a hue and compare"
      ],
      "metadata": {
        "id": "cxRng8Y2Q-GN",
        "colab": {
          "base_uri": "https://localhost:8080/",
          "height": 517
        },
        "outputId": "55094bab-15fc-4d0e-a448-e144ff094795"
      },
      "execution_count": null,
      "outputs": [
        {
          "output_type": "execute_result",
          "data": {
            "text/plain": [
              "<matplotlib.legend.Legend at 0x7f1d84938f90>"
            ]
          },
          "metadata": {},
          "execution_count": 8
        },
        {
          "output_type": "display_data",
          "data": {
            "text/plain": [
              "<Figure size 720x432 with 1 Axes>"
            ],
            "image/png": "[encoded data removed]"
          },
          "metadata": {
            "needs_background": "light"
          }
        }
      ]
    },
    {
      "cell_type": "code",
      "source": [
        "#Same as above, reference for labels\n",
        "sns.histplot(data=df, x='cap-color', edgecolor='black',bins='auto', hue='class')"
      ],
      "metadata": {
        "id": "jEgJrZkzwcnA",
        "outputId": "c7263344-3780-4c88-9f9c-67ec366f2160",
        "colab": {
          "base_uri": "https://localhost:8080/",
          "height": 296
        }
      },
      "execution_count": null,
      "outputs": [
        {
          "output_type": "execute_result",
          "data": {
            "text/plain": [
              "<matplotlib.axes._subplots.AxesSubplot at 0x7f1d81b192d0>"
            ]
          },
          "metadata": {},
          "execution_count": 9
        },
        {
          "output_type": "display_data",
          "data": {
            "text/plain": [
              "<Figure size 432x288 with 1 Axes>"
            ],
            "image/png": "[encoded data removed]"
          },
          "metadata": {
            "needs_background": "light"
          }
        }
      ]
    },
    {
      "cell_type": "code",
      "source": [
        "fig, ax = plt.subplots(figsize=(10,6))\n",
        "labels2 = ['Brown', 'Yellow', 'White',  'Gray', 'Red', 'Pink', 'Buff', 'Purple', 'Cinnamon', 'Green']\n",
        "\n",
        "#Now to vizualize the Cap colors\n",
        "\n",
        "plt.tight_layout()\n",
        "sns.histplot(data=df, x='cap-color', edgecolor='black',bins='auto', hue='class')\n",
        "plt.ylabel('Total Mushrooms')\n",
        "plt.xlabel('Cap Colors')\n",
        "ax.set_xticklabels(labels=labels2)\n",
        "ax.set(title='Mushroom Cap Colors')\n",
        "ax.tick_params(labelrotation = 45)\n",
        "ax.legend(labels=['Poisonous', 'Edible'])\n",
        "#The few mushrooms with purple cap and green caps are poisonous\n",
        "#Cap Color isn't good for identifying class in general it seems."
      ],
      "metadata": {
        "id": "rDSBQ2AILSrl",
        "colab": {
          "base_uri": "https://localhost:8080/",
          "height": 517
        },
        "outputId": "ddb8ab43-81a6-4b5d-edc0-18fe487a4783"
      },
      "execution_count": null,
      "outputs": [
        {
          "output_type": "execute_result",
          "data": {
            "text/plain": [
              "<matplotlib.legend.Legend at 0x7f1d81adf8d0>"
            ]
          },
          "metadata": {},
          "execution_count": 10
        },
        {
          "output_type": "display_data",
          "data": {
            "text/plain": [
              "<Figure size 720x432 with 1 Axes>"
            ],
            "image/png": "[encoded data removed]"
          },
          "metadata": {
            "needs_background": "light"
          }
        }
      ]
    },
    {
      "cell_type": "code",
      "source": [
        "df['cap-shape'].value_counts()"
      ],
      "metadata": {
        "id": "KtvS15d7vveF",
        "colab": {
          "base_uri": "https://localhost:8080/"
        },
        "outputId": "666c3ee1-96b6-4b78-ff98-d79e9bab4a08"
      },
      "execution_count": null,
      "outputs": [
        {
          "output_type": "execute_result",
          "data": {
            "text/plain": [
              "x    3656\n",
              "f    3152\n",
              "k     828\n",
              "b     452\n",
              "s      32\n",
              "c       4\n",
              "Name: cap-shape, dtype: int64"
            ]
          },
          "metadata": {},
          "execution_count": 41
        }
      ]
    },
    {
      "cell_type": "code",
      "source": [
        "y = np.array([3656, 3152, 828, 452, 32, 4])\n",
        "x = np.array(['Convex', 'Flat', 'Knobbed', 'Bell', 'Sunken', 'Conical'])\n",
        "\n",
        "plt.bar(x, y, color='Black')"
      ],
      "metadata": {
        "colab": {
          "base_uri": "https://localhost:8080/",
          "height": 282
        },
        "id": "dxBJ7ILGfwtQ",
        "outputId": "bc06447a-2d44-4162-c221-8d26908115c3"
      },
      "execution_count": null,
      "outputs": [
        {
          "output_type": "execute_result",
          "data": {
            "text/plain": [
              "<BarContainer object of 6 artists>"
            ]
          },
          "metadata": {},
          "execution_count": 80
        },
        {
          "output_type": "display_data",
          "data": {
            "text/plain": [
              "<Figure size 432x288 with 1 Axes>"
            ],
            "image/png": "[encoded data removed]"
          },
          "metadata": {
            "needs_background": "light"
          }
        }
      ]
    },
    {
      "cell_type": "code",
      "source": [
        "sns.barplot(x=x, y=y)"
      ],
      "metadata": {
        "colab": {
          "base_uri": "https://localhost:8080/",
          "height": 282
        },
        "id": "iDJnBJTkhlfb",
        "outputId": "1bf2c165-fa37-492f-e752-2994361a5c86"
      },
      "execution_count": null,
      "outputs": [
        {
          "output_type": "execute_result",
          "data": {
            "text/plain": [
              "<matplotlib.axes._subplots.AxesSubplot at 0x7f1d6be87d90>"
            ]
          },
          "metadata": {},
          "execution_count": 85
        },
        {
          "output_type": "display_data",
          "data": {
            "text/plain": [
              "<Figure size 432x288 with 1 Axes>"
            ],
            "image/png": "[encoded data removed]"
          },
          "metadata": {
            "needs_background": "light"
          }
        }
      ]
    },
    {
      "cell_type": "code",
      "source": [
        "df['class'] = df['class'].replace({'e': 0, 'p': 1});\n",
        "df['class'] = df['class'].astype(float);\n",
        "df.info()\n",
        "edi = df.groupby('class').mean()\n"
      ],
      "metadata": {
        "colab": {
          "base_uri": "https://localhost:8080/"
        },
        "id": "R7Ey37yWj8xI",
        "outputId": "db09e449-e24f-44f8-bc65-f880937bd987"
      },
      "execution_count": 108,
      "outputs": [
        {
          "output_type": "stream",
          "name": "stdout",
          "text": [
            "<class 'pandas.core.frame.DataFrame'>\n",
            "RangeIndex: 8124 entries, 0 to 8123\n",
            "Data columns (total 23 columns):\n",
            " #   Column                    Non-Null Count  Dtype  \n",
            "---  ------                    --------------  -----  \n",
            " 0   class                     8124 non-null   float64\n",
            " 1   cap-shape                 8124 non-null   object \n",
            " 2   cap-surface               8124 non-null   object \n",
            " 3   cap-color                 8124 non-null   object \n",
            " 4   bruises                   8124 non-null   object \n",
            " 5   odor                      8124 non-null   object \n",
            " 6   gill-attachment           8124 non-null   object \n",
            " 7   gill-spacing              8124 non-null   object \n",
            " 8   gill-size                 8124 non-null   object \n",
            " 9   gill-color                8124 non-null   object \n",
            " 10  stalk-shape               8124 non-null   object \n",
            " 11  stalk-root                8124 non-null   object \n",
            " 12  stalk-surface-above-ring  8124 non-null   object \n",
            " 13  stalk-surface-below-ring  8124 non-null   object \n",
            " 14  stalk-color-above-ring    8124 non-null   object \n",
            " 15  stalk-color-below-ring    8124 non-null   object \n",
            " 16  veil-type                 8124 non-null   object \n",
            " 17  veil-color                8124 non-null   object \n",
            " 18  ring-number               8124 non-null   object \n",
            " 19  ring-type                 8124 non-null   object \n",
            " 20  spore-print-color         8124 non-null   object \n",
            " 21  population                8124 non-null   object \n",
            " 22  habitat                   8124 non-null   object \n",
            "dtypes: float64(1), object(22)\n",
            "memory usage: 1.4+ MB\n"
          ]
        },
        {
          "output_type": "stream",
          "name": "stderr",
          "text": [
            "/usr/local/lib/python3.7/dist-packages/IPython/core/interactiveshell.py:2882: FutureWarning: Dropping invalid columns in DataFrameGroupBy.mean is deprecated. In a future version, a TypeError will be raised. Before calling .mean, select only columns which should be valid for the function.\n",
            "  exec(code_obj, self.user_global_ns, self.user_ns)\n"
          ]
        },
        {
          "output_type": "execute_result",
          "data": {
            "text/plain": [
              "0.48202855736090594"
            ]
          },
          "metadata": {},
          "execution_count": 108
        }
      ]
    },
    {
      "cell_type": "code",
      "source": [
        "df('class').mean()"
      ],
      "metadata": {
        "id": "qmNuwSRUkS_M",
        "colab": {
          "base_uri": "https://localhost:8080/"
        },
        "outputId": "6d91d62d-2835-4359-e43b-0a0dc6657a73"
      },
      "execution_count": 109,
      "outputs": [
        {
          "output_type": "execute_result",
          "data": {
            "text/plain": [
              "0.48202855736090594"
            ]
          },
          "metadata": {},
          "execution_count": 109
        }
      ]
    },
    {
      "cell_type": "code",
      "source": [
        ""
      ],
      "metadata": {
        "id": "gv3Ql9a-uD88"
      },
      "execution_count": null,
      "outputs": []
    }
  ]
}